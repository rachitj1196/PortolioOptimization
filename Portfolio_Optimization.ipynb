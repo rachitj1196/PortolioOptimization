{
  "nbformat": 4,
  "nbformat_minor": 0,
  "metadata": {
    "colab": {
      "name": "Portfolio Optimization.ipynb",
      "provenance": []
    },
    "kernelspec": {
      "name": "python3",
      "display_name": "Python 3"
    }
  },
  "cells": [
    {
      "cell_type": "code",
      "metadata": {
        "id": "aXSkwacJkyMK"
      },
      "source": [
        "# Portfolio Optimization\n",
        "import pandas as pd\n",
        "import numpy as np\n",
        "import matplotlib.pyplot as plt\n",
        "%matplotlib inline"
      ],
      "execution_count": 2,
      "outputs": []
    },
    {
      "cell_type": "code",
      "metadata": {
        "id": "f9VEXugulQCR"
      },
      "source": [
        "from pandas_datareader import data as web\n",
        "from datetime import datetime\n",
        "plt.style.use('fivethirtyeight')"
      ],
      "execution_count": 3,
      "outputs": []
    },
    {
      "cell_type": "code",
      "metadata": {
        "id": "xUxiNptUlRIt"
      },
      "source": [
        "# Get Stock symbols in portfolio\n",
        "assets=['FB','AMZN','AAPL','NFLX','GOOG']"
      ],
      "execution_count": 4,
      "outputs": []
    },
    {
      "cell_type": "code",
      "metadata": {
        "id": "wBcDAV2wlRwP"
      },
      "source": [
        "# Assign weights to portfolio\n",
        "weights=np.array([0.2, 0.2, 0.2, 0.2, 0.2])"
      ],
      "execution_count": 5,
      "outputs": []
    },
    {
      "cell_type": "code",
      "metadata": {
        "id": "OwD6XDB_lSIn",
        "outputId": "958e07f5-c30e-41dc-d1a8-297b1940098a",
        "colab": {
          "base_uri": "https://localhost:8080/",
          "height": 35
        }
      },
      "source": [
        "# Get start date\n",
        "stockstartdate= '2013-01-01'\n",
        "stockenddate = datetime.today().strftime('%Y-%m-%d')\n",
        "stockenddate"
      ],
      "execution_count": 7,
      "outputs": [
        {
          "output_type": "execute_result",
          "data": {
            "application/vnd.google.colaboratory.intrinsic+json": {
              "type": "string"
            },
            "text/plain": [
              "'2020-11-13'"
            ]
          },
          "metadata": {
            "tags": []
          },
          "execution_count": 7
        }
      ]
    },
    {
      "cell_type": "code",
      "metadata": {
        "id": "LP4WsQRLlSc_"
      },
      "source": [
        "df=pd.DataFrame()\n",
        "for stock in assets:\n",
        "  df[stock] = web.DataReader(stock,data_source='yahoo',start=stockstartdate, end=stockenddate)['Adj Close']\n"
      ],
      "execution_count": 9,
      "outputs": []
    },
    {
      "cell_type": "code",
      "metadata": {
        "id": "KA_fuQ87lSoA",
        "outputId": "6ba4889f-593c-4725-f0da-05efea4dbf6d",
        "colab": {
          "base_uri": "https://localhost:8080/",
          "height": 235
        }
      },
      "source": [
        "df.head()"
      ],
      "execution_count": 10,
      "outputs": [
        {
          "output_type": "execute_result",
          "data": {
            "text/html": [
              "<div>\n",
              "<style scoped>\n",
              "    .dataframe tbody tr th:only-of-type {\n",
              "        vertical-align: middle;\n",
              "    }\n",
              "\n",
              "    .dataframe tbody tr th {\n",
              "        vertical-align: top;\n",
              "    }\n",
              "\n",
              "    .dataframe thead th {\n",
              "        text-align: right;\n",
              "    }\n",
              "</style>\n",
              "<table border=\"1\" class=\"dataframe\">\n",
              "  <thead>\n",
              "    <tr style=\"text-align: right;\">\n",
              "      <th></th>\n",
              "      <th>FB</th>\n",
              "      <th>AMZN</th>\n",
              "      <th>AAPL</th>\n",
              "      <th>NFLX</th>\n",
              "      <th>GOOG</th>\n",
              "    </tr>\n",
              "    <tr>\n",
              "      <th>Date</th>\n",
              "      <th></th>\n",
              "      <th></th>\n",
              "      <th></th>\n",
              "      <th></th>\n",
              "      <th></th>\n",
              "    </tr>\n",
              "  </thead>\n",
              "  <tbody>\n",
              "    <tr>\n",
              "      <th>2013-01-02</th>\n",
              "      <td>28.000000</td>\n",
              "      <td>257.309998</td>\n",
              "      <td>16.926661</td>\n",
              "      <td>13.144286</td>\n",
              "      <td>360.274597</td>\n",
              "    </tr>\n",
              "    <tr>\n",
              "      <th>2013-01-03</th>\n",
              "      <td>27.770000</td>\n",
              "      <td>258.480011</td>\n",
              "      <td>16.713015</td>\n",
              "      <td>13.798572</td>\n",
              "      <td>360.483826</td>\n",
              "    </tr>\n",
              "    <tr>\n",
              "      <th>2013-01-04</th>\n",
              "      <td>28.760000</td>\n",
              "      <td>259.149994</td>\n",
              "      <td>16.247477</td>\n",
              "      <td>13.711429</td>\n",
              "      <td>367.607117</td>\n",
              "    </tr>\n",
              "    <tr>\n",
              "      <th>2013-01-07</th>\n",
              "      <td>29.420000</td>\n",
              "      <td>268.459991</td>\n",
              "      <td>16.151909</td>\n",
              "      <td>14.171429</td>\n",
              "      <td>366.003143</td>\n",
              "    </tr>\n",
              "    <tr>\n",
              "      <th>2013-01-08</th>\n",
              "      <td>29.059999</td>\n",
              "      <td>266.380005</td>\n",
              "      <td>16.195379</td>\n",
              "      <td>13.880000</td>\n",
              "      <td>365.280823</td>\n",
              "    </tr>\n",
              "  </tbody>\n",
              "</table>\n",
              "</div>"
            ],
            "text/plain": [
              "                   FB        AMZN       AAPL       NFLX        GOOG\n",
              "Date                                                               \n",
              "2013-01-02  28.000000  257.309998  16.926661  13.144286  360.274597\n",
              "2013-01-03  27.770000  258.480011  16.713015  13.798572  360.483826\n",
              "2013-01-04  28.760000  259.149994  16.247477  13.711429  367.607117\n",
              "2013-01-07  29.420000  268.459991  16.151909  14.171429  366.003143\n",
              "2013-01-08  29.059999  266.380005  16.195379  13.880000  365.280823"
            ]
          },
          "metadata": {
            "tags": []
          },
          "execution_count": 10
        }
      ]
    },
    {
      "cell_type": "code",
      "metadata": {
        "id": "BnQ5TTqSlSxa",
        "outputId": "7e3a4e82-b8d5-48dc-cc68-2ee4aaec20f6",
        "colab": {
          "base_uri": "https://localhost:8080/",
          "height": 325
        }
      },
      "source": [
        "# Visualize stocks\n",
        "title='Portfolio Adj. Close Price'\n",
        "# Create and plot graph\n",
        "for c in df.columns.values:\n",
        "  plt.plot(df[c], label= c)\n",
        "\n",
        "plt.title(title)\n",
        "plt.xlabel('Date')\n",
        "plt.ylabel('Adj. Price in USD')\n",
        "plt.legend(df.columns.values, loc= 'upper left')\n",
        "plt.show()"
      ],
      "execution_count": 12,
      "outputs": [
        {
          "output_type": "display_data",
          "data": {
            "image/png": "[encoded data removed]",
            "text/plain": [
              "<Figure size 432x288 with 1 Axes>"
            ]
          },
          "metadata": {
            "tags": []
          }
        }
      ]
    },
    {
      "cell_type": "code",
      "metadata": {
        "id": "-EXEn1MklS6P",
        "outputId": "46dab160-af3e-4473-88cd-185832ae4750",
        "colab": {
          "base_uri": "https://localhost:8080/",
          "height": 235
        }
      },
      "source": [
        "# Show daily returns\n",
        "returns = df.pct_change()\n",
        "returns.head()"
      ],
      "execution_count": 14,
      "outputs": [
        {
          "output_type": "execute_result",
          "data": {
            "text/html": [
              "<div>\n",
              "<style scoped>\n",
              "    .dataframe tbody tr th:only-of-type {\n",
              "        vertical-align: middle;\n",
              "    }\n",
              "\n",
              "    .dataframe tbody tr th {\n",
              "        vertical-align: top;\n",
              "    }\n",
              "\n",
              "    .dataframe thead th {\n",
              "        text-align: right;\n",
              "    }\n",
              "</style>\n",
              "<table border=\"1\" class=\"dataframe\">\n",
              "  <thead>\n",
              "    <tr style=\"text-align: right;\">\n",
              "      <th></th>\n",
              "      <th>FB</th>\n",
              "      <th>AMZN</th>\n",
              "      <th>AAPL</th>\n",
              "      <th>NFLX</th>\n",
              "      <th>GOOG</th>\n",
              "    </tr>\n",
              "    <tr>\n",
              "      <th>Date</th>\n",
              "      <th></th>\n",
              "      <th></th>\n",
              "      <th></th>\n",
              "      <th></th>\n",
              "      <th></th>\n",
              "    </tr>\n",
              "  </thead>\n",
              "  <tbody>\n",
              "    <tr>\n",
              "      <th>2013-01-02</th>\n",
              "      <td>NaN</td>\n",
              "      <td>NaN</td>\n",
              "      <td>NaN</td>\n",
              "      <td>NaN</td>\n",
              "      <td>NaN</td>\n",
              "    </tr>\n",
              "    <tr>\n",
              "      <th>2013-01-03</th>\n",
              "      <td>-0.008214</td>\n",
              "      <td>0.004547</td>\n",
              "      <td>-0.012622</td>\n",
              "      <td>0.049777</td>\n",
              "      <td>0.000581</td>\n",
              "    </tr>\n",
              "    <tr>\n",
              "      <th>2013-01-04</th>\n",
              "      <td>0.035650</td>\n",
              "      <td>0.002592</td>\n",
              "      <td>-0.027855</td>\n",
              "      <td>-0.006315</td>\n",
              "      <td>0.019760</td>\n",
              "    </tr>\n",
              "    <tr>\n",
              "      <th>2013-01-07</th>\n",
              "      <td>0.022949</td>\n",
              "      <td>0.035925</td>\n",
              "      <td>-0.005882</td>\n",
              "      <td>0.033549</td>\n",
              "      <td>-0.004363</td>\n",
              "    </tr>\n",
              "    <tr>\n",
              "      <th>2013-01-08</th>\n",
              "      <td>-0.012237</td>\n",
              "      <td>-0.007748</td>\n",
              "      <td>0.002691</td>\n",
              "      <td>-0.020565</td>\n",
              "      <td>-0.001974</td>\n",
              "    </tr>\n",
              "  </tbody>\n",
              "</table>\n",
              "</div>"
            ],
            "text/plain": [
              "                  FB      AMZN      AAPL      NFLX      GOOG\n",
              "Date                                                        \n",
              "2013-01-02       NaN       NaN       NaN       NaN       NaN\n",
              "2013-01-03 -0.008214  0.004547 -0.012622  0.049777  0.000581\n",
              "2013-01-04  0.035650  0.002592 -0.027855 -0.006315  0.019760\n",
              "2013-01-07  0.022949  0.035925 -0.005882  0.033549 -0.004363\n",
              "2013-01-08 -0.012237 -0.007748  0.002691 -0.020565 -0.001974"
            ]
          },
          "metadata": {
            "tags": []
          },
          "execution_count": 14
        }
      ]
    },
    {
      "cell_type": "code",
      "metadata": {
        "id": "Jje0jGx3lTBX",
        "outputId": "4acb1da9-4f8f-4a00-a6d6-7776ef8131b2",
        "colab": {
          "base_uri": "https://localhost:8080/",
          "height": 204
        }
      },
      "source": [
        "# Annualized Covariance Matrix\n",
        "cov_matrix= returns.cov()*252\n",
        "cov_matrix"
      ],
      "execution_count": 17,
      "outputs": [
        {
          "output_type": "execute_result",
          "data": {
            "text/html": [
              "<div>\n",
              "<style scoped>\n",
              "    .dataframe tbody tr th:only-of-type {\n",
              "        vertical-align: middle;\n",
              "    }\n",
              "\n",
              "    .dataframe tbody tr th {\n",
              "        vertical-align: top;\n",
              "    }\n",
              "\n",
              "    .dataframe thead th {\n",
              "        text-align: right;\n",
              "    }\n",
              "</style>\n",
              "<table border=\"1\" class=\"dataframe\">\n",
              "  <thead>\n",
              "    <tr style=\"text-align: right;\">\n",
              "      <th></th>\n",
              "      <th>FB</th>\n",
              "      <th>AMZN</th>\n",
              "      <th>AAPL</th>\n",
              "      <th>NFLX</th>\n",
              "      <th>GOOG</th>\n",
              "    </tr>\n",
              "  </thead>\n",
              "  <tbody>\n",
              "    <tr>\n",
              "      <th>FB</th>\n",
              "      <td>0.119804</td>\n",
              "      <td>0.055643</td>\n",
              "      <td>0.045084</td>\n",
              "      <td>0.057093</td>\n",
              "      <td>0.050779</td>\n",
              "    </tr>\n",
              "    <tr>\n",
              "      <th>AMZN</th>\n",
              "      <td>0.055643</td>\n",
              "      <td>0.095134</td>\n",
              "      <td>0.040154</td>\n",
              "      <td>0.064024</td>\n",
              "      <td>0.048282</td>\n",
              "    </tr>\n",
              "    <tr>\n",
              "      <th>AAPL</th>\n",
              "      <td>0.045084</td>\n",
              "      <td>0.040154</td>\n",
              "      <td>0.081986</td>\n",
              "      <td>0.035297</td>\n",
              "      <td>0.038879</td>\n",
              "    </tr>\n",
              "    <tr>\n",
              "      <th>NFLX</th>\n",
              "      <td>0.057093</td>\n",
              "      <td>0.064024</td>\n",
              "      <td>0.035297</td>\n",
              "      <td>0.213109</td>\n",
              "      <td>0.049215</td>\n",
              "    </tr>\n",
              "    <tr>\n",
              "      <th>GOOG</th>\n",
              "      <td>0.050779</td>\n",
              "      <td>0.048282</td>\n",
              "      <td>0.038879</td>\n",
              "      <td>0.049215</td>\n",
              "      <td>0.066522</td>\n",
              "    </tr>\n",
              "  </tbody>\n",
              "</table>\n",
              "</div>"
            ],
            "text/plain": [
              "            FB      AMZN      AAPL      NFLX      GOOG\n",
              "FB    0.119804  0.055643  0.045084  0.057093  0.050779\n",
              "AMZN  0.055643  0.095134  0.040154  0.064024  0.048282\n",
              "AAPL  0.045084  0.040154  0.081986  0.035297  0.038879\n",
              "NFLX  0.057093  0.064024  0.035297  0.213109  0.049215\n",
              "GOOG  0.050779  0.048282  0.038879  0.049215  0.066522"
            ]
          },
          "metadata": {
            "tags": []
          },
          "execution_count": 17
        }
      ]
    },
    {
      "cell_type": "code",
      "metadata": {
        "id": "Gua30pGvlTH4",
        "outputId": "63f01735-45ae-40c2-ce6e-397862a9b25d",
        "colab": {
          "base_uri": "https://localhost:8080/"
        }
      },
      "source": [
        "# Calculate portfolio Variance\n",
        "port_var = np.dot(weights.T,np.dot(cov_matrix,weights))\n",
        "port_var*100"
      ],
      "execution_count": 19,
      "outputs": [
        {
          "output_type": "execute_result",
          "data": {
            "text/plain": [
              "6.181816577655426"
            ]
          },
          "metadata": {
            "tags": []
          },
          "execution_count": 19
        }
      ]
    },
    {
      "cell_type": "code",
      "metadata": {
        "id": "b10B8AFulTNE",
        "outputId": "2366a78e-a2a0-4ae2-dc58-3b735faf5562",
        "colab": {
          "base_uri": "https://localhost:8080/"
        }
      },
      "source": [
        "# Calculate portfolio volatility (Std. Deviation)\n",
        "port_vol=np.sqrt(port_var)\n",
        "port_vol*100"
      ],
      "execution_count": 21,
      "outputs": [
        {
          "output_type": "execute_result",
          "data": {
            "text/plain": [
              "24.86325919435227"
            ]
          },
          "metadata": {
            "tags": []
          },
          "execution_count": 21
        }
      ]
    },
    {
      "cell_type": "code",
      "metadata": {
        "id": "JxvJ0lBllTRR",
        "outputId": "9388ab05-ef1a-494b-83a3-521e60e9744c",
        "colab": {
          "base_uri": "https://localhost:8080/"
        }
      },
      "source": [
        "# Annual Portfolio return\n",
        "port_return = np.sum(returns.mean()*weights)*252\n",
        "port_return*100"
      ],
      "execution_count": 23,
      "outputs": [
        {
          "output_type": "execute_result",
          "data": {
            "text/plain": [
              "36.011867396952525"
            ]
          },
          "metadata": {
            "tags": []
          },
          "execution_count": 23
        }
      ]
    },
    {
      "cell_type": "code",
      "metadata": {
        "id": "wu7WgODzlTUQ"
      },
      "source": [
        "# Show expected annual return, volatility(risk) and Variance\n",
        "\n",
        "percent_var=str(round(port_var,2)*100)+'%'\n",
        "percent_vol = str(round(port_vol,2)*100)+'%'\n",
        "percent_return = str(round(port_return,2)*100)+'%'\n"
      ],
      "execution_count": 24,
      "outputs": []
    },
    {
      "cell_type": "code",
      "metadata": {
        "id": "q5g_gieIlTZY",
        "outputId": "15d1f795-2316-40db-acc7-6906efe73ce6",
        "colab": {
          "base_uri": "https://localhost:8080/"
        }
      },
      "source": [
        "print('Expected annual return: '+ percent_return)\n",
        "print('Annual Volitality (risk): '+ percent_vol)\n",
        "print('Annual Var: '+ percent_var)"
      ],
      "execution_count": 25,
      "outputs": [
        {
          "output_type": "stream",
          "text": [
            "Expected annual return: 36.0%\n",
            "Annual Volitality (risk): 25.0%\n",
            "Annual Var: 6.0%\n"
          ],
          "name": "stdout"
        }
      ]
    },
    {
      "cell_type": "code",
      "metadata": {
        "id": "4hmTSK2ylTbv",
        "outputId": "fe106a72-f7c5-4ed7-9c8f-54c32ce521ec",
        "colab": {
          "base_uri": "https://localhost:8080/"
        }
      },
      "source": [
        "pip install PyPortfolioOpt"
      ],
      "execution_count": 26,
      "outputs": [
        {
          "output_type": "stream",
          "text": [
            "Collecting PyPortfolioOpt\n",
            "\u001b[?25l  Downloading https://files.pythonhosted.org/packages/f9/19/1f903f95e2acb95dc4b4275278a7b9f0b2cdae387d815d6219ffb46d6576/PyPortfolioOpt-1.2.7-py3-none-any.whl (48kB)\n",
            "\r\u001b[K     |██████▊                         | 10kB 16.8MB/s eta 0:00:01\r\u001b[K     |█████████████▍                  | 20kB 21.2MB/s eta 0:00:01\r\u001b[K     |████████████████████▏           | 30kB 14.8MB/s eta 0:00:01\r\u001b[K     |██████████████████████████▉     | 40kB 12.7MB/s eta 0:00:01\r\u001b[K     |████████████████████████████████| 51kB 3.9MB/s \n",
            "\u001b[?25hRequirement already satisfied: pandas>=0.19 in /usr/local/lib/python3.6/dist-packages (from PyPortfolioOpt) (1.1.4)\n",
            "Requirement already satisfied: numpy<2.0,>=1.12 in /usr/local/lib/python3.6/dist-packages (from PyPortfolioOpt) (1.18.5)\n",
            "Requirement already satisfied: cvxpy<2.0,>=1.0 in /usr/local/lib/python3.6/dist-packages (from PyPortfolioOpt) (1.0.31)\n",
            "Requirement already satisfied: cvxopt<2.0,>=1.2 in /usr/local/lib/python3.6/dist-packages (from PyPortfolioOpt) (1.2.5)\n",
            "Requirement already satisfied: scipy<2.0,>=1.3 in /usr/local/lib/python3.6/dist-packages (from PyPortfolioOpt) (1.4.1)\n",
            "Requirement already satisfied: python-dateutil>=2.7.3 in /usr/local/lib/python3.6/dist-packages (from pandas>=0.19->PyPortfolioOpt) (2.8.1)\n",
            "Requirement already satisfied: pytz>=2017.2 in /usr/local/lib/python3.6/dist-packages (from pandas>=0.19->PyPortfolioOpt) (2018.9)\n",
            "Requirement already satisfied: multiprocess in /usr/local/lib/python3.6/dist-packages (from cvxpy<2.0,>=1.0->PyPortfolioOpt) (0.70.10)\n",
            "Requirement already satisfied: ecos>=2 in /usr/local/lib/python3.6/dist-packages (from cvxpy<2.0,>=1.0->PyPortfolioOpt) (2.0.7.post1)\n",
            "Requirement already satisfied: osqp>=0.4.1 in /usr/local/lib/python3.6/dist-packages (from cvxpy<2.0,>=1.0->PyPortfolioOpt) (0.6.1)\n",
            "Requirement already satisfied: scs>=1.1.3 in /usr/local/lib/python3.6/dist-packages (from cvxpy<2.0,>=1.0->PyPortfolioOpt) (2.1.2)\n",
            "Requirement already satisfied: six>=1.5 in /usr/local/lib/python3.6/dist-packages (from python-dateutil>=2.7.3->pandas>=0.19->PyPortfolioOpt) (1.15.0)\n",
            "Requirement already satisfied: dill>=0.3.2 in /usr/local/lib/python3.6/dist-packages (from multiprocess->cvxpy<2.0,>=1.0->PyPortfolioOpt) (0.3.3)\n",
            "Requirement already satisfied: future in /usr/local/lib/python3.6/dist-packages (from osqp>=0.4.1->cvxpy<2.0,>=1.0->PyPortfolioOpt) (0.16.0)\n",
            "Installing collected packages: PyPortfolioOpt\n",
            "Successfully installed PyPortfolioOpt-1.2.7\n"
          ],
          "name": "stdout"
        }
      ]
    },
    {
      "cell_type": "code",
      "metadata": {
        "id": "FAUuODJtlTex"
      },
      "source": [
        "from pypfopt.efficient_frontier import EfficientFrontier\n",
        "from pypfopt import risk_models\n",
        "from pypfopt import expected_returns"
      ],
      "execution_count": 27,
      "outputs": []
    },
    {
      "cell_type": "code",
      "metadata": {
        "id": "4zwYbIMpCQBx"
      },
      "source": [
        "# Portfolio Optimization\n",
        "mu =expected_returns.mean_historical_return(df)\n",
        "S=risk_models.sample_cov(df)\n",
        "\n",
        "# Optimize for max sharpe ratio\n",
        "ef = EfficientFrontier(mu,S)\n",
        "weights = ef.max_sharpe()"
      ],
      "execution_count": 28,
      "outputs": []
    },
    {
      "cell_type": "code",
      "metadata": {
        "id": "BUlGwF0gCQZF",
        "outputId": "c59eff35-d429-4075-ff0f-ec1b01e19485",
        "colab": {
          "base_uri": "https://localhost:8080/"
        }
      },
      "source": [
        "cleaned_weights = ef.clean_weights()\n",
        "print(cleaned_weights)\n",
        "ef.portfolio_performance(verbose=True)"
      ],
      "execution_count": 29,
      "outputs": [
        {
          "output_type": "stream",
          "text": [
            "OrderedDict([('FB', 0.10311), ('AMZN', 0.31172), ('AAPL', 0.24892), ('NFLX', 0.33625), ('GOOG', 0.0)])\n",
            "Expected annual return: 41.7%\n",
            "Annual volatility: 27.4%\n",
            "Sharpe Ratio: 1.45\n"
          ],
          "name": "stdout"
        },
        {
          "output_type": "execute_result",
          "data": {
            "text/plain": [
              "(0.41669613614812206, 0.2740512572986555, 1.447525328138928)"
            ]
          },
          "metadata": {
            "tags": []
          },
          "execution_count": 29
        }
      ]
    },
    {
      "cell_type": "code",
      "metadata": {
        "id": "E1pw8-4SCQhT",
        "outputId": "2c3535cd-71d6-41b7-a2d7-031564df47ba",
        "colab": {
          "base_uri": "https://localhost:8080/"
        }
      },
      "source": [
        "# Get allocation of each share\n",
        "from pypfopt.discrete_allocation import DiscreteAllocation, get_latest_prices\n",
        "latest_prices = get_latest_prices(df)\n",
        "weights = cleaned_weights\n",
        "da = DiscreteAllocation(weights,latest_prices, total_portfolio_value = 15000)\n",
        "\n",
        "allocation, leftover = da.lp_portfolio()\n",
        "print('Discrete Allocation: ', allocation)\n",
        "print('Funds remaining: ${:.2f}'.format(leftover))"
      ],
      "execution_count": 33,
      "outputs": [
        {
          "output_type": "stream",
          "text": [
            "Discrete Allocation:  {'FB': 6, 'AMZN': 1, 'AAPL': 32, 'NFLX': 11}\n",
            "Funds remaining: $1105.41\n"
          ],
          "name": "stdout"
        }
      ]
    },
    {
      "cell_type": "code",
      "metadata": {
        "id": "RLEwzCdOCQmn"
      },
      "source": [
        ""
      ],
      "execution_count": null,
      "outputs": []
    },
    {
      "cell_type": "code",
      "metadata": {
        "id": "nyR_A9mKCQsM"
      },
      "source": [
        ""
      ],
      "execution_count": null,
      "outputs": []
    },
    {
      "cell_type": "code",
      "metadata": {
        "id": "_oO8HUMvCQxP"
      },
      "source": [
        ""
      ],
      "execution_count": null,
      "outputs": []
    },
    {
      "cell_type": "code",
      "metadata": {
        "id": "r2LWG2IYCQ21"
      },
      "source": [
        ""
      ],
      "execution_count": null,
      "outputs": []
    },
    {
      "cell_type": "code",
      "metadata": {
        "id": "79zNOkldCRJZ"
      },
      "source": [
        ""
      ],
      "execution_count": null,
      "outputs": []
    },
    {
      "cell_type": "code",
      "metadata": {
        "id": "QSt7QrwTCRXu"
      },
      "source": [
        ""
      ],
      "execution_count": null,
      "outputs": []
    }
  ]
}